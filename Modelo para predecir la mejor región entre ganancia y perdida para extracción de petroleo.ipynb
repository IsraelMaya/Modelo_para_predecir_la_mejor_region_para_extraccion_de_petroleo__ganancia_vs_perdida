{
 "cells": [
  {
   "cell_type": "markdown",
   "metadata": {},
   "source": [
    "# Oily Giant\n",
    "\n",
    "Trabajamos para la compañía minera OilyGiant. El objetivo es encontrar el mejor lugar para un nuevo pozo utilizando los siguientes pasos para elegir la ubicación:\n",
    "\n",
    "    * Recolectar los parámetros del pozo de petróleo en la región seleccionada: calidad del petróleo y volumen de reservas\n",
    "    * Construir un modelo para predecir el volumen de reservas en los nuevos pozos\n",
    "    * Seleccionar los pozos de petróleo con los valores estimados más altos\n",
    "    * Elige la región con el mayor beneficio total para los pozos de petróleo seleccionados.\n",
    "    \n",
    "Para ello, se nos dan los datos sobre muestras de crudo de tres regiones. \n",
    "\n",
    "Ya se conocen los parámetros de cada pozo petrolero de la región, por lo que vamos a crear un modelo que ayude a elegir la región con el mayor margen de beneficio, tomandose a consideración que, una unidad de producto es igual a 1000 barriles, donde cada barril representa 4.5 USD de ingresos, por lo que una unidad representa 4,500 USD de ingresos, y el presupuesto para el desarrollo de 200 pozos es de 100 millones de USD.\n",
    "\n",
    "Al final se analiza los beneficios y riesgos potenciales utilizando la técnica bootstrapping de 1000 muestras y con un intervalo de confianza del 95%."
   ]
  },
  {
   "cell_type": "markdown",
   "metadata": {},
   "source": [
    "* [1 Incialización](#Capítulo_1)\n",
    "    * [1.1 Cargar los datos](#Sección_1_1)\n",
    "* [2 Exploración datos iniciales](#Capítulo_2)\n",
    "    * [2.1 División y codificación de los datos](#Sección_2_1)\n",
    "* [3 Formulación del cálculo de ganancias](#Capítulo_3)\n",
    "* [4 Bootstraping](#Capítulo_4)\n",
    "* [5 Conclusión](#Capítulo_5)"
   ]
  },
  {
   "cell_type": "markdown",
   "metadata": {},
   "source": [
    "## Inicialización <a class=\"anchor\" id=\"Capítulo_1\"></a>"
   ]
  },
  {
   "cell_type": "code",
   "execution_count": 1,
   "metadata": {},
   "outputs": [],
   "source": [
    "#importamos las librerias a utilizar\n",
    "import pandas as pd\n",
    "import numpy as np\n",
    "import matplotlib.pyplot as plt\n",
    "from scipy import stats as st\n",
    "\n",
    "from sklearn.model_selection import train_test_split\n",
    "from sklearn.metrics import mean_squared_error\n",
    "from sklearn.linear_model import LinearRegression"
   ]
  },
  {
   "cell_type": "markdown",
   "metadata": {},
   "source": [
    "### Cargar los datos <a class=\"anchor\" id=\"Sección_1_1\"></a>"
   ]
  },
  {
   "cell_type": "code",
   "execution_count": 2,
   "metadata": {},
   "outputs": [],
   "source": [
    "try:\n",
    "    geo_0 = pd.read_csv('/datasets/geo_data_0.csv')\n",
    "    geo_1 = pd.read_csv('/datasets/geo_data_1.csv')\n",
    "    geo_2 = pd.read_csv('/datasets/geo_data_2.csv')\n",
    "except:\n",
    "    geo_0 = pd.read_csv('geo_data_0.csv')\n",
    "    geo_1 = pd.read_csv('geo_data_1.csv')\n",
    "    geo_2 = pd.read_csv('geo_data_2.csv')"
   ]
  },
  {
   "cell_type": "markdown",
   "metadata": {},
   "source": [
    "## Explorar datos iniciales <a class=\"anchor\" id=\"Capítulo_2\"></a>"
   ]
  },
  {
   "cell_type": "code",
   "execution_count": 3,
   "metadata": {},
   "outputs": [
    {
     "name": "stdout",
     "output_type": "stream",
     "text": [
      "<class 'pandas.core.frame.DataFrame'>\n",
      "RangeIndex: 100000 entries, 0 to 99999\n",
      "Data columns (total 5 columns):\n",
      " #   Column   Non-Null Count   Dtype  \n",
      "---  ------   --------------   -----  \n",
      " 0   id       100000 non-null  object \n",
      " 1   f0       100000 non-null  float64\n",
      " 2   f1       100000 non-null  float64\n",
      " 3   f2       100000 non-null  float64\n",
      " 4   product  100000 non-null  float64\n",
      "dtypes: float64(4), object(1)\n",
      "memory usage: 3.8+ MB\n"
     ]
    },
    {
     "data": {
      "text/html": [
       "<div>\n",
       "<style scoped>\n",
       "    .dataframe tbody tr th:only-of-type {\n",
       "        vertical-align: middle;\n",
       "    }\n",
       "\n",
       "    .dataframe tbody tr th {\n",
       "        vertical-align: top;\n",
       "    }\n",
       "\n",
       "    .dataframe thead th {\n",
       "        text-align: right;\n",
       "    }\n",
       "</style>\n",
       "<table border=\"1\" class=\"dataframe\">\n",
       "  <thead>\n",
       "    <tr style=\"text-align: right;\">\n",
       "      <th></th>\n",
       "      <th>id</th>\n",
       "      <th>f0</th>\n",
       "      <th>f1</th>\n",
       "      <th>f2</th>\n",
       "      <th>product</th>\n",
       "    </tr>\n",
       "  </thead>\n",
       "  <tbody>\n",
       "    <tr>\n",
       "      <th>0</th>\n",
       "      <td>txEyH</td>\n",
       "      <td>0.705745</td>\n",
       "      <td>-0.497823</td>\n",
       "      <td>1.221170</td>\n",
       "      <td>105.280062</td>\n",
       "    </tr>\n",
       "    <tr>\n",
       "      <th>1</th>\n",
       "      <td>2acmU</td>\n",
       "      <td>1.334711</td>\n",
       "      <td>-0.340164</td>\n",
       "      <td>4.365080</td>\n",
       "      <td>73.037750</td>\n",
       "    </tr>\n",
       "    <tr>\n",
       "      <th>2</th>\n",
       "      <td>409Wp</td>\n",
       "      <td>1.022732</td>\n",
       "      <td>0.151990</td>\n",
       "      <td>1.419926</td>\n",
       "      <td>85.265647</td>\n",
       "    </tr>\n",
       "    <tr>\n",
       "      <th>3</th>\n",
       "      <td>iJLyR</td>\n",
       "      <td>-0.032172</td>\n",
       "      <td>0.139033</td>\n",
       "      <td>2.978566</td>\n",
       "      <td>168.620776</td>\n",
       "    </tr>\n",
       "    <tr>\n",
       "      <th>4</th>\n",
       "      <td>Xdl7t</td>\n",
       "      <td>1.988431</td>\n",
       "      <td>0.155413</td>\n",
       "      <td>4.751769</td>\n",
       "      <td>154.036647</td>\n",
       "    </tr>\n",
       "  </tbody>\n",
       "</table>\n",
       "</div>"
      ],
      "text/plain": [
       "      id        f0        f1        f2     product\n",
       "0  txEyH  0.705745 -0.497823  1.221170  105.280062\n",
       "1  2acmU  1.334711 -0.340164  4.365080   73.037750\n",
       "2  409Wp  1.022732  0.151990  1.419926   85.265647\n",
       "3  iJLyR -0.032172  0.139033  2.978566  168.620776\n",
       "4  Xdl7t  1.988431  0.155413  4.751769  154.036647"
      ]
     },
     "execution_count": 3,
     "metadata": {},
     "output_type": "execute_result"
    }
   ],
   "source": [
    "geo_0.info()\n",
    "geo_0.head(5)"
   ]
  },
  {
   "cell_type": "code",
   "execution_count": 4,
   "metadata": {},
   "outputs": [
    {
     "name": "stdout",
     "output_type": "stream",
     "text": [
      "<class 'pandas.core.frame.DataFrame'>\n",
      "RangeIndex: 100000 entries, 0 to 99999\n",
      "Data columns (total 5 columns):\n",
      " #   Column   Non-Null Count   Dtype  \n",
      "---  ------   --------------   -----  \n",
      " 0   id       100000 non-null  object \n",
      " 1   f0       100000 non-null  float64\n",
      " 2   f1       100000 non-null  float64\n",
      " 3   f2       100000 non-null  float64\n",
      " 4   product  100000 non-null  float64\n",
      "dtypes: float64(4), object(1)\n",
      "memory usage: 3.8+ MB\n"
     ]
    },
    {
     "data": {
      "text/html": [
       "<div>\n",
       "<style scoped>\n",
       "    .dataframe tbody tr th:only-of-type {\n",
       "        vertical-align: middle;\n",
       "    }\n",
       "\n",
       "    .dataframe tbody tr th {\n",
       "        vertical-align: top;\n",
       "    }\n",
       "\n",
       "    .dataframe thead th {\n",
       "        text-align: right;\n",
       "    }\n",
       "</style>\n",
       "<table border=\"1\" class=\"dataframe\">\n",
       "  <thead>\n",
       "    <tr style=\"text-align: right;\">\n",
       "      <th></th>\n",
       "      <th>id</th>\n",
       "      <th>f0</th>\n",
       "      <th>f1</th>\n",
       "      <th>f2</th>\n",
       "      <th>product</th>\n",
       "    </tr>\n",
       "  </thead>\n",
       "  <tbody>\n",
       "    <tr>\n",
       "      <th>0</th>\n",
       "      <td>kBEdx</td>\n",
       "      <td>-15.001348</td>\n",
       "      <td>-8.276000</td>\n",
       "      <td>-0.005876</td>\n",
       "      <td>3.179103</td>\n",
       "    </tr>\n",
       "    <tr>\n",
       "      <th>1</th>\n",
       "      <td>62mP7</td>\n",
       "      <td>14.272088</td>\n",
       "      <td>-3.475083</td>\n",
       "      <td>0.999183</td>\n",
       "      <td>26.953261</td>\n",
       "    </tr>\n",
       "    <tr>\n",
       "      <th>2</th>\n",
       "      <td>vyE1P</td>\n",
       "      <td>6.263187</td>\n",
       "      <td>-5.948386</td>\n",
       "      <td>5.001160</td>\n",
       "      <td>134.766305</td>\n",
       "    </tr>\n",
       "    <tr>\n",
       "      <th>3</th>\n",
       "      <td>KcrkZ</td>\n",
       "      <td>-13.081196</td>\n",
       "      <td>-11.506057</td>\n",
       "      <td>4.999415</td>\n",
       "      <td>137.945408</td>\n",
       "    </tr>\n",
       "    <tr>\n",
       "      <th>4</th>\n",
       "      <td>AHL4O</td>\n",
       "      <td>12.702195</td>\n",
       "      <td>-8.147433</td>\n",
       "      <td>5.004363</td>\n",
       "      <td>134.766305</td>\n",
       "    </tr>\n",
       "  </tbody>\n",
       "</table>\n",
       "</div>"
      ],
      "text/plain": [
       "      id         f0         f1        f2     product\n",
       "0  kBEdx -15.001348  -8.276000 -0.005876    3.179103\n",
       "1  62mP7  14.272088  -3.475083  0.999183   26.953261\n",
       "2  vyE1P   6.263187  -5.948386  5.001160  134.766305\n",
       "3  KcrkZ -13.081196 -11.506057  4.999415  137.945408\n",
       "4  AHL4O  12.702195  -8.147433  5.004363  134.766305"
      ]
     },
     "execution_count": 4,
     "metadata": {},
     "output_type": "execute_result"
    }
   ],
   "source": [
    "geo_1.info()\n",
    "geo_1.head(5)"
   ]
  },
  {
   "cell_type": "code",
   "execution_count": 5,
   "metadata": {},
   "outputs": [
    {
     "name": "stdout",
     "output_type": "stream",
     "text": [
      "<class 'pandas.core.frame.DataFrame'>\n",
      "RangeIndex: 100000 entries, 0 to 99999\n",
      "Data columns (total 5 columns):\n",
      " #   Column   Non-Null Count   Dtype  \n",
      "---  ------   --------------   -----  \n",
      " 0   id       100000 non-null  object \n",
      " 1   f0       100000 non-null  float64\n",
      " 2   f1       100000 non-null  float64\n",
      " 3   f2       100000 non-null  float64\n",
      " 4   product  100000 non-null  float64\n",
      "dtypes: float64(4), object(1)\n",
      "memory usage: 3.8+ MB\n"
     ]
    },
    {
     "data": {
      "text/html": [
       "<div>\n",
       "<style scoped>\n",
       "    .dataframe tbody tr th:only-of-type {\n",
       "        vertical-align: middle;\n",
       "    }\n",
       "\n",
       "    .dataframe tbody tr th {\n",
       "        vertical-align: top;\n",
       "    }\n",
       "\n",
       "    .dataframe thead th {\n",
       "        text-align: right;\n",
       "    }\n",
       "</style>\n",
       "<table border=\"1\" class=\"dataframe\">\n",
       "  <thead>\n",
       "    <tr style=\"text-align: right;\">\n",
       "      <th></th>\n",
       "      <th>id</th>\n",
       "      <th>f0</th>\n",
       "      <th>f1</th>\n",
       "      <th>f2</th>\n",
       "      <th>product</th>\n",
       "    </tr>\n",
       "  </thead>\n",
       "  <tbody>\n",
       "    <tr>\n",
       "      <th>0</th>\n",
       "      <td>fwXo0</td>\n",
       "      <td>-1.146987</td>\n",
       "      <td>0.963328</td>\n",
       "      <td>-0.828965</td>\n",
       "      <td>27.758673</td>\n",
       "    </tr>\n",
       "    <tr>\n",
       "      <th>1</th>\n",
       "      <td>WJtFt</td>\n",
       "      <td>0.262778</td>\n",
       "      <td>0.269839</td>\n",
       "      <td>-2.530187</td>\n",
       "      <td>56.069697</td>\n",
       "    </tr>\n",
       "    <tr>\n",
       "      <th>2</th>\n",
       "      <td>ovLUW</td>\n",
       "      <td>0.194587</td>\n",
       "      <td>0.289035</td>\n",
       "      <td>-5.586433</td>\n",
       "      <td>62.871910</td>\n",
       "    </tr>\n",
       "    <tr>\n",
       "      <th>3</th>\n",
       "      <td>q6cA6</td>\n",
       "      <td>2.236060</td>\n",
       "      <td>-0.553760</td>\n",
       "      <td>0.930038</td>\n",
       "      <td>114.572842</td>\n",
       "    </tr>\n",
       "    <tr>\n",
       "      <th>4</th>\n",
       "      <td>WPMUX</td>\n",
       "      <td>-0.515993</td>\n",
       "      <td>1.716266</td>\n",
       "      <td>5.899011</td>\n",
       "      <td>149.600746</td>\n",
       "    </tr>\n",
       "  </tbody>\n",
       "</table>\n",
       "</div>"
      ],
      "text/plain": [
       "      id        f0        f1        f2     product\n",
       "0  fwXo0 -1.146987  0.963328 -0.828965   27.758673\n",
       "1  WJtFt  0.262778  0.269839 -2.530187   56.069697\n",
       "2  ovLUW  0.194587  0.289035 -5.586433   62.871910\n",
       "3  q6cA6  2.236060 -0.553760  0.930038  114.572842\n",
       "4  WPMUX -0.515993  1.716266  5.899011  149.600746"
      ]
     },
     "execution_count": 5,
     "metadata": {},
     "output_type": "execute_result"
    }
   ],
   "source": [
    "geo_2.info()\n",
    "geo_2.head(5)"
   ]
  },
  {
   "cell_type": "markdown",
   "metadata": {},
   "source": [
    "### División y codificación de los datos <a class=\"anchor\" id=\"Sección_2_1\"></a>\n",
    "\n",
    "Dividiremos los data sets de la siguiente forma:\n",
    "\n",
    "    - Entrenamiento (75%) \n",
    "    - Valiadación (25%)\n",
    "    \n",
    "Y dado que el nombre de los pozos (`id`) es único, también lo quitaremos de los data sets    "
   ]
  },
  {
   "cell_type": "code",
   "execution_count": 6,
   "metadata": {},
   "outputs": [
    {
     "name": "stdout",
     "output_type": "stream",
     "text": [
      "El tamaño de datos para el entrenamiento de la base de datos geo_0 es: (75000, 3) (75000,)\n",
      "El tamaño de datos para la valdidación de la base de datos geo_0 es: (25000, 3) (25000,)\n",
      "El tamaño de datos para el entrenamiento de la base de datos geo_1 es: (75000, 3) (75000,)\n",
      "El tamaño de datos para la valdidación de la base de datos geo_1 es: (25000, 3) (25000,)\n",
      "El tamaño de datos para el entrenamiento de la base de datos geo__2 es: (75000, 3) (75000,)\n",
      "El tamaño de datos para la valdidación de la base de datos geo_2 es: (25000, 3) (25000,)\n"
     ]
    }
   ],
   "source": [
    "features_0 = geo_0.drop(['product','id'], axis=1)\n",
    "target_0 = geo_0['product']\n",
    "\n",
    "#se crea el conjunto de la data para el entranmiento y validación de los modelos\n",
    "features_train_0, features_valid_0, target_train_0, target_valid_0 = train_test_split(features_0,target_0,\n",
    "                                                                              test_size=0.25, random_state=12345)\n",
    "\n",
    "print('El tamaño de datos para el entrenamiento de la base de datos geo_0 es:', features_train_0.shape,target_train_0.shape)\n",
    "print('El tamaño de datos para la valdidación de la base de datos geo_0 es:', features_valid_0.shape,target_valid_0.shape)\n",
    "\n",
    "\n",
    "\n",
    "features_1 = geo_1.drop(['product','id'], axis=1)\n",
    "target_1 = geo_1['product']\n",
    "\n",
    "\n",
    "#se crea el conjunto de la data para el entranmiento y validación de los modelos\n",
    "features_train_1, features_valid_1, target_train_1, target_valid_1 = train_test_split(features_1,target_1,\n",
    "                                                                              test_size=0.25, random_state=12345)\n",
    "\n",
    "print('El tamaño de datos para el entrenamiento de la base de datos geo_1 es:', features_train_1.shape,target_train_1.shape)\n",
    "print('El tamaño de datos para la valdidación de la base de datos geo_1 es:', features_valid_1.shape,target_valid_1.shape)\n",
    "\n",
    "\n",
    "features_2 = geo_2.drop(['product','id'], axis=1)\n",
    "target_2 = geo_2['product']\n",
    "\n",
    "\n",
    "#se crea el conjunto de la data para el entranmiento y validación de los modelos\n",
    "features_train_2, features_valid_2, target_train_2, target_valid_2 = train_test_split(features_2,target_2,\n",
    "                                                                              test_size=0.25, random_state=12345)\n",
    "\n",
    "print('El tamaño de datos para el entrenamiento de la base de datos geo__2 es:', features_train_2.shape,target_train_2.shape)\n",
    "print('El tamaño de datos para la valdidación de la base de datos geo_2 es:', features_valid_2.shape,target_valid_2.shape)"
   ]
  },
  {
   "cell_type": "code",
   "execution_count": 7,
   "metadata": {},
   "outputs": [
    {
     "name": "stdout",
     "output_type": "stream",
     "text": [
      "Los base de datos geo_0 con el modelo de regresión logística tiene un RECM de: 37.58\n",
      "El volumen promedio de las reservas previstas es: 92.59\n"
     ]
    }
   ],
   "source": [
    "model = LinearRegression() # inicializa el constructor de regresión lineal con los parámetros\n",
    "model.fit(features_train_0,target_train_0) # entrena el modelo en el conjunto de entrenamiento\n",
    "prediction_valid_0 = model.predict(features_valid_0)\n",
    "ecm_0 = mean_squared_error(target_valid_0, prediction_valid_0)\n",
    "recm_0 = np.sqrt(ecm_0)\n",
    "\n",
    "print(\"Los base de datos geo_0 con el modelo de regresión logística tiene un RECM de: {:.2f}\".format(recm_0))\n",
    "print(\"El volumen promedio de las reservas previstas es: {:.2f}\".format(prediction_valid_0.mean()))"
   ]
  },
  {
   "cell_type": "code",
   "execution_count": 8,
   "metadata": {},
   "outputs": [
    {
     "name": "stdout",
     "output_type": "stream",
     "text": [
      "Los base de datos geo_0 con el modelo de regresión logística tiene un RECM de: 0.89\n",
      "El volumen promedio de las reservas previstas es: 68.73\n"
     ]
    }
   ],
   "source": [
    "model = LinearRegression() # inicializa el constructor de regresión lineal con los parámetros\n",
    "model.fit(features_train_1,target_train_1) # entrena el modelo en el conjunto de entrenamiento\n",
    "prediction_valid_1 = model.predict(features_valid_1) \n",
    "ecm_1 = mean_squared_error(target_valid_1, prediction_valid_1)\n",
    "recm_1 = np.sqrt(ecm_1)\n",
    "\n",
    "print(\"Los base de datos geo_0 con el modelo de regresión logística tiene un RECM de: {:.2f}\".format(recm_1))\n",
    "print(\"El volumen promedio de las reservas previstas es: {:.2f}\".format(prediction_valid_1.mean()))"
   ]
  },
  {
   "cell_type": "code",
   "execution_count": 9,
   "metadata": {},
   "outputs": [
    {
     "name": "stdout",
     "output_type": "stream",
     "text": [
      "Los base de datos geo_0 con el modelo de regresión lineal tiene un RECM de: 40.03\n",
      "El volumen promedio de las reservas previstas es: 94.97\n"
     ]
    }
   ],
   "source": [
    "model = LinearRegression() # inicializa el constructor de regresión lineal con los parámetros\n",
    "model.fit(features_train_2,target_train_2) # entrena el modelo en el conjunto de entrenamiento\n",
    "prediction_valid_2 = model.predict(features_valid_2) \n",
    "ecm_2 = mean_squared_error(target_valid_2, prediction_valid_2)\n",
    "recm_2 = np.sqrt(ecm_2)\n",
    "\n",
    "print(\"Los base de datos geo_0 con el modelo de regresión lineal tiene un RECM de: {:.2f}\".format(recm_2))\n",
    "print(\"El volumen promedio de las reservas previstas es: {:.2f}\".format(prediction_valid_2.mean()))"
   ]
  },
  {
   "cell_type": "markdown",
   "metadata": {},
   "source": [
    "La región 1 fue la que tuvo un mejor RECM, mientras que la región 0 y 2 tuvieron un RECM que representa cerca de un 1/3 del valor medio.\n",
    "\n",
    "Con respecto al tamaño del volumen de las reservas, es pequeño el de la región 1 en comparación con el de la región 0 y 2"
   ]
  },
  {
   "cell_type": "markdown",
   "metadata": {},
   "source": [
    "## Formulación del cálculo de ganancias <a class=\"anchor\" id=\"Capítulo_3\"></a>"
   ]
  },
  {
   "cell_type": "markdown",
   "metadata": {},
   "source": [
    "Si tenemos 100,000,000.00 de USD como presupuesto para 200 pozos ¿cuál es el volumen de reservas que en promedio debe haber para que no haya pérdidas?. Para responder a esto colocamos los datos y ponemos la siguiente formula\n",
    "\n",
    "Ganancia = g = 0\n",
    "Inversión = i = 100,000,000.00\n",
    "pozos = p = 200\n",
    "Ingresos = ing = 4,500.00\n",
    "Volumen de reservas = vr \n",
    "\n",
    "g = vr $*$ ing $*$ 200 - i\n",
    "\n",
    "Si las gagancias son cero, entonces podemos despejar de la formual el volumen de reservas y obtener lo siguiente:"
   ]
  },
  {
   "cell_type": "code",
   "execution_count": 10,
   "metadata": {},
   "outputs": [
    {
     "name": "stdout",
     "output_type": "stream",
     "text": [
      "El Volumen que debería tener cada pozo para no haya perdidas deberia ser de: 111.11\n"
     ]
    }
   ],
   "source": [
    "g = 0\n",
    "i = 100000000.00\n",
    "p = 200\n",
    "ing = 4500.00\n",
    "\n",
    "vr = (g+i)/(ing*p) # fórmula despejada \n",
    "\n",
    "print('El Volumen que debería tener cada pozo para no haya perdidas deberia ser de:', round(vr,2))\n"
   ]
  },
  {
   "cell_type": "code",
   "execution_count": 11,
   "metadata": {},
   "outputs": [
    {
     "name": "stdout",
     "output_type": "stream",
     "text": [
      "El volumen promedio de reserva que tiene en las regiones 0, 1, 2, correspondientemente es: 92.08 , 68.72 y 94.88\n"
     ]
    }
   ],
   "source": [
    "target_0 = round(target_valid_0.mean(),2)\n",
    "target_1 = round(target_valid_1.mean(),2)\n",
    "target_2 = round(target_valid_2.mean(),2)\n",
    "print(\"El volumen promedio de reserva que tiene en las regiones 0, 1, 2, correspondientemente es:\",target_0\n",
    "      ,\",\",target_1,\"y\",target_2)"
   ]
  },
  {
   "cell_type": "markdown",
   "metadata": {},
   "source": [
    "De acuerdo al análisis anyerior, parece ser que para salir flat en la ganancia, las regiones a analizar no cuentan con ese volumen de reservas de petroleo en su promedio, y están por debajo. "
   ]
  },
  {
   "cell_type": "markdown",
   "metadata": {},
   "source": [
    "## Bootstraping <a class=\"anchor\" id=\"Capítulo_4\"></a>"
   ]
  },
  {
   "cell_type": "markdown",
   "metadata": {},
   "source": [
    "Vamo a realizar la tecinca de bootstraping para ver con las predicciones, que tantas ganancias va a generar este proyecto y también que región es la más viable para ello."
   ]
  },
  {
   "cell_type": "code",
   "execution_count": 12,
   "metadata": {},
   "outputs": [],
   "source": [
    "#tomamos una muestra de 500 pozos de cada una de las predicciones de las regiones\n",
    "prediction_0 = pd.DataFrame(prediction_valid_0).sample(n=500, random_state=1)\n",
    "prediction_1 = pd.DataFrame(prediction_valid_1).sample(n=500, random_state=1)\n",
    "prediction_2 = pd.DataFrame(prediction_valid_2).sample(n=500, random_state=1)"
   ]
  },
  {
   "cell_type": "code",
   "execution_count": 13,
   "metadata": {},
   "outputs": [],
   "source": [
    "#tomamos los 200 pozos con mayor volumen de reserva\n",
    "prediction_0_max = prediction_0.sort_values(by=0,ascending=False)[:200]\n",
    "prediction_1_max = prediction_1.sort_values(by=0,ascending=False)[:200]\n",
    "prediction_2_max = prediction_2.sort_values(by=0,ascending=False)[:200]"
   ]
  },
  {
   "cell_type": "code",
   "execution_count": 14,
   "metadata": {},
   "outputs": [
    {
     "name": "stdout",
     "output_type": "stream",
     "text": [
      "la predicción maxima del volumen de reserva de la region 0 es: 115.18\n",
      "la predicción maxima del volumen de reserva de la region 1 es: 116.37\n",
      "la predicción maxima del volumen de reserva de la region 2 es: 114.82\n"
     ]
    }
   ],
   "source": [
    "#vemos quien tiene mayor volumen de reserva en promedio \n",
    "region_0 = prediction_0_max[0].mean()\n",
    "region_1 = prediction_1_max[0].mean()\n",
    "region_2 = prediction_2_max[0].mean()\n",
    "\n",
    "print(\"la predicción maxima del volumen de reserva de la region 0 es:\", round(region_0,2))\n",
    "print(\"la predicción maxima del volumen de reserva de la region 1 es:\", round(region_1,2))\n",
    "print(\"la predicción maxima del volumen de reserva de la region 2 es:\", round(region_2,2))"
   ]
  },
  {
   "cell_type": "markdown",
   "metadata": {},
   "source": [
    "En las predicciones, la región uno, es la que tiene un volumen de reserva mayor y la cual será elegida para hacer el desarrollo de los 200 pozos petroleros, ya que también era la que tiene un valor más bajo de RECM.\n",
    "\n",
    "Se toma en cuenta que, una unidad de producto es igual a 1000 barriles, donde cada barril representa 4.5 USD de ingresos, por lo que una unidad representa 4,500 USD de ingresos, y el presupuesto para el desarrollo de 200 pozos es de 100 millones de USD\n",
    "\n",
    "A continuación creamos una función que calcula las ganancias y donde veremos la ganancia estimada de la región 1 "
   ]
  },
  {
   "cell_type": "code",
   "execution_count": 15,
   "metadata": {},
   "outputs": [
    {
     "name": "stdout",
     "output_type": "stream",
     "text": [
      "El valor estimado de la ganancia sería de: 4,735,696.97\n"
     ]
    }
   ],
   "source": [
    "# se crea la función para el cálculo de las ganancias\n",
    "\n",
    "def ganancia(volumen_de_reserva):\n",
    "    i = 100000000\n",
    "    ing = 4500\n",
    "    g = volumen_de_reserva*ing*200 - i\n",
    "    return g\n",
    "# se corre la función con el valor de la region 1\n",
    "#print(ganancia(round(float(region_1),2)))\n",
    "print(\"El valor estimado de la ganancia sería de: {:,.2f}\".format(ganancia(region_1)))"
   ]
  },
  {
   "cell_type": "markdown",
   "metadata": {},
   "source": [
    "Dado este resultado tan positivo, ahora vamos a aplicarlo dentro del bootstraping."
   ]
  },
  {
   "cell_type": "code",
   "execution_count": 16,
   "metadata": {},
   "outputs": [
    {
     "name": "stdout",
     "output_type": "stream",
     "text": [
      "El valor mínimo de reservas para el anáilisis es de: 109.0\n",
      "El valor máximo de reservas para el anáilisis es de: 123.97\n",
      "El beneficio mínimo de reservas para el anáilisis es de: -1,900,000.00\n",
      "El beneficio máximo de reservas para el anáilisis es de: 11,573,000.00\n",
      "El límite inferior de beneficio para el intervalor de confianza es de: 331,550.00\n",
      "El límite superior de beneficio para el intervalor de confianza es de: 8,549,675.00\n"
     ]
    }
   ],
   "source": [
    "state = np.random.RandomState(12345)\n",
    "volumen_de_reserva_promedio = []\n",
    "beneficio = []\n",
    "bootstrap_muestras = 1000\n",
    "for i in range(bootstrap_muestras):\n",
    "    submuestra = pd.DataFrame(prediction_valid_1).sample(n=500, replace=True, random_state=state)\n",
    "    prediction_1_max = submuestra.sort_values(by=0,ascending=False)[:200]\n",
    "    volumen_de_reserva_promedio.append(round(float(prediction_1_max.mean()),2))\n",
    "    beneficio.append(ganancia(round(float(prediction_1_max.mean()),2)))\n",
    "\n",
    "print(\"El valor mínimo de reservas para el anáilisis es de:\", min(volumen_de_reserva_promedio))\n",
    "print(\"El valor máximo de reservas para el anáilisis es de:\", max(volumen_de_reserva_promedio))\n",
    "    \n",
    "print(\"El beneficio mínimo de reservas para el anáilisis es de: {:,.2f}\" .format(min(beneficio)))\n",
    "print(\"El beneficio máximo de reservas para el anáilisis es de: {:,.2f}\" .format(max(beneficio)))\n",
    "\n",
    "beneficio_s = pd.Series(beneficio)\n",
    "\n",
    "#vemos la información dentro del intervalo del 95%\n",
    "lower = beneficio_s.quantile(0.025)# \n",
    "upper = beneficio_s.quantile(0.975)# \n",
    "print(\"El límite inferior de beneficio para el intervalor de confianza es de: {:,.2f}\" .format(lower))\n",
    "print(\"El límite superior de beneficio para el intervalor de confianza es de: {:,.2f}\" .format(upper))"
   ]
  },
  {
   "cell_type": "code",
   "execution_count": 17,
   "metadata": {},
   "outputs": [
    {
     "data": {
      "image/png": "[encoded data removed]",
      "text/plain": [
       "<Figure size 1500x400 with 1 Axes>"
      ]
     },
     "metadata": {},
     "output_type": "display_data"
    }
   ],
   "source": [
    "#transformamos las lista a dataframe para hacer los histograma\n",
    "volumen_de_reserva_promedio = pd.Series(volumen_de_reserva_promedio)\n",
    "volumen_de_reserva_promedio.hist(bins=20,figsize=(15,4))\n",
    "plt.title('Volumen de reserva promedio de petroleo')\n",
    "plt.show()"
   ]
  },
  {
   "cell_type": "code",
   "execution_count": 18,
   "metadata": {},
   "outputs": [
    {
     "data": {
      "image/png": "[encoded data removed]",
      "text/plain": [
       "<Figure size 1500x400 with 1 Axes>"
      ]
     },
     "metadata": {},
     "output_type": "display_data"
    },
    {
     "name": "stdout",
     "output_type": "stream",
     "text": [
      "El beneficio promedio es de: 4,538,357.00\n"
     ]
    }
   ],
   "source": [
    "#transformamos las lista a dataframe para hacer los histograma\n",
    "beneficio = pd.Series(beneficio)\n",
    "#beneficio = pd.DataFrame(beneficio,columns=['beneficio'])\n",
    "beneficio.hist(bins=20,figsize=(15,4))\n",
    "plt.title('Beneficio de ingresos')\n",
    "plt.show()\n",
    "print('El beneficio promedio es de: {:,.2f}'.format(beneficio.mean()))"
   ]
  },
  {
   "cell_type": "code",
   "execution_count": 19,
   "metadata": {},
   "outputs": [
    {
     "data": {
      "image/png": "[encoded data removed]",
      "text/plain": [
       "<Figure size 1500x400 with 1 Axes>"
      ]
     },
     "metadata": {},
     "output_type": "display_data"
    },
    {
     "name": "stdout",
     "output_type": "stream",
     "text": [
      "El beneficio promedio dentro del intervalo de confianza del 95% es de: 4,537,178.95\n"
     ]
    }
   ],
   "source": [
    "#transformamos las lista a dataframe para hacer los histograma\n",
    "beneficio_1 = pd.DataFrame(beneficio,columns=['ganancia'])\n",
    "beneficio_confianza = beneficio_1[(beneficio_1['ganancia'] >= lower) & (beneficio_1['ganancia'] <= upper)]\n",
    "beneficio_confianza.hist(bins=20,figsize=(15,4))\n",
    "plt.title('Beneficio de ingresos de acuerdo al intervalo de confianza')\n",
    "plt.show()\n",
    "print('El beneficio promedio dentro del intervalo de confianza del 95% es de: {:,.2f}'.format(beneficio_confianza['ganancia'].mean()))"
   ]
  },
  {
   "cell_type": "markdown",
   "metadata": {},
   "source": [
    "Con el resultado anterior, podemos ver que las predicciones de los beneficio promedios es de 4,537,178.95 de USD y con el intervalo de confianza del 95%, no se dará el caso donde haya una perdida por la inversión."
   ]
  },
  {
   "cell_type": "code",
   "execution_count": 20,
   "metadata": {},
   "outputs": [
    {
     "name": "stdout",
     "output_type": "stream",
     "text": [
      "El riesgo de excavar en esta región es de: 1.6%\n"
     ]
    }
   ],
   "source": [
    "riesgo = len(beneficio[beneficio<0])/len(beneficio)\n",
    "print(\"El riesgo de excavar en esta región es de: {:.1%}\" .format(riesgo))"
   ]
  },
  {
   "cell_type": "markdown",
   "metadata": {},
   "source": [
    "## Conclusión <a class=\"anchor\" id=\"Capítulo_5\"></a>\n",
    "\n",
    "Se encontró que de las tres regiones analizadas, la región 1 es la que da una mejor fiabilidad para hacer la extracción de petroleo en 200 pozos, dado su bajo RECM y también a que se predice un mayor voluemn de reservas.\n",
    "\n",
    "Dada la inversión de 100 millones de USD, se espera que en promedio la ganancia por pozo sea 4,537,178.95 de USD con un riesgo del 1.6%, lo cual le puede dar mucha confianza a la empresa `Oily Giant` de relizar su extración en la región 1. "
   ]
  }
 ],
 "metadata": {
  "kernelspec": {
   "display_name": "Python 3 (ipykernel)",
   "language": "python",
   "name": "python3"
  },
  "language_info": {
   "codemirror_mode": {
    "name": "ipython",
    "version": 3
   },
   "file_extension": ".py",
   "mimetype": "text/x-python",
   "name": "python",
   "nbconvert_exporter": "python",
   "pygments_lexer": "ipython3",
   "version": "3.10.9"
  },
  "toc": {
   "base_numbering": 1,
   "nav_menu": {},
   "number_sections": true,
   "sideBar": true,
   "skip_h1_title": true,
   "title_cell": "Table of Contents",
   "title_sidebar": "Contents",
   "toc_cell": false,
   "toc_position": {},
   "toc_section_display": true,
   "toc_window_display": false
  }
 },
 "nbformat": 4,
 "nbformat_minor": 2
}
